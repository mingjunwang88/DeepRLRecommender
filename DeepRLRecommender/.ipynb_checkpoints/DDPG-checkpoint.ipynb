{
 "cells": [
  {
   "cell_type": "markdown",
   "metadata": {
    "application/vnd.databricks.v1+cell": {
     "inputWidgets": {},
     "nuid": "92730d5f-c94d-4c8e-b09b-1ae1342327f1",
     "showTitle": false,
     "title": ""
    }
   },
   "source": [
    "### Import Classes"
   ]
  },
  {
   "cell_type": "code",
   "execution_count": null,
   "metadata": {
    "application/vnd.databricks.v1+cell": {
     "inputWidgets": {},
     "nuid": "72c762ef-f5cf-4f43-b932-629493984780",
     "showTitle": false,
     "title": ""
    }
   },
   "outputs": [],
   "source": [
    "%run ./ActorCricitSimulator"
   ]
  },
  {
   "cell_type": "markdown",
   "metadata": {
    "application/vnd.databricks.v1+cell": {
     "inputWidgets": {},
     "nuid": "0e7ac666-dc13-408e-8d9b-08ced7f5003d",
     "showTitle": false,
     "title": ""
    }
   },
   "source": [
    "### Data"
   ]
  },
  {
   "cell_type": "code",
   "execution_count": null,
   "metadata": {
    "application/vnd.databricks.v1+cell": {
     "inputWidgets": {},
     "nuid": "802867ec-7ecf-42f9-8f91-0843c566cefd",
     "showTitle": false,
     "title": ""
    }
   },
   "outputs": [
    {
     "data": {
      "text/html": [
       "<style scoped>\n",
       "  .ansiout {\n",
       "    display: block;\n",
       "    unicode-bidi: embed;\n",
       "    white-space: pre-wrap;\n",
       "    word-wrap: break-word;\n",
       "    word-break: break-all;\n",
       "    font-family: \"Source Code Pro\", \"Menlo\", monospace;;\n",
       "    font-size: 13px;\n",
       "    color: #555;\n",
       "    margin-left: 4px;\n",
       "    line-height: 19px;\n",
       "  }\n",
       "</style>\n",
       "<div class=\"ansiout\">/databricks/spark/python/pyspark/sql/pandas/utils.py:79: UserWarning: The conversion of DecimalType columns is inefficient and may take a long time. Column names: [TARGET] If those columns are not necessary, you may consider dropping them or converting to primitive types before the conversion.\n",
       "  warnings.warn(\n",
       "States:  torch.Size([4575, 50])\n",
       "Actions:  torch.Size([227, 50])\n",
       "</div>"
      ]
     },
     "metadata": {
      "application/vnd.databricks.v1+output": {
       "addedWidgets": {},
       "arguments": {},
       "data": "<div class=\"ansiout\">/databricks/spark/python/pyspark/sql/pandas/utils.py:79: UserWarning: The conversion of DecimalType columns is inefficient and may take a long time. Column names: [TARGET] If those columns are not necessary, you may consider dropping them or converting to primitive types before the conversion.\n  warnings.warn(\nStates:  torch.Size([4575, 50])\nActions:  torch.Size([227, 50])\n</div>",
       "datasetInfos": [],
       "metadata": {},
       "removedWidgets": [],
       "type": "html"
      }
     },
     "output_type": "display_data"
    },
    {
     "data": {
      "text/html": [
       "<style scoped>\n",
       "  .ansiout {\n",
       "    display: block;\n",
       "    unicode-bidi: embed;\n",
       "    white-space: pre-wrap;\n",
       "    word-wrap: break-word;\n",
       "    word-break: break-all;\n",
       "    font-family: \"Source Code Pro\", \"Menlo\", monospace;;\n",
       "    font-size: 13px;\n",
       "    color: #555;\n",
       "    margin-left: 4px;\n",
       "    line-height: 19px;\n",
       "  }\n",
       "</style>\n",
       "<div class=\"ansiout\"></div>"
      ]
     },
     "metadata": {
      "application/vnd.databricks.v1+output": {
       "addedWidgets": {},
       "arguments": {},
       "data": "<div class=\"ansiout\"></div>",
       "datasetInfos": [],
       "metadata": {},
       "removedWidgets": [],
       "type": "html"
      }
     },
     "output_type": "display_data"
    }
   ],
   "source": [
    "from sklearn.model_selection import train_test_split\n",
    "import numpy as np\n",
    "\n",
    "data_origin = spark.read.load(home + 'data')\n",
    "splits = data_origin.randomSplit([0.8, 0.2], 100)\n",
    "\n",
    "data = splits[0].toPandas()\n",
    "data_test = splits[1]\n",
    "\n",
    "cats = spark.read.format('delta').load((home + 'cat_seg'))\n",
    "clusters = cats.select('cluster').distinct().count()\n",
    "\n",
    "state_cols = ['orders_{0}'.format(i) for i in range(clusters)]\n",
    "action_cols = ['rest_{0}'.format(j) for j in range(clusters)]\n",
    "\n",
    "states = data[state_cols].drop_duplicates()\n",
    "states['rand'] = np.random.rand(states.shape[0])\n",
    "#display(states.head())\n",
    "states = states.sort_values(by='rand').drop('rand',axis=1)\n",
    "states = t.tensor(states.values)\n",
    "\n",
    "actions = t.tensor(data[action_cols].drop_duplicates().values)\n",
    "\n",
    "#print(state_cols)\n",
    "print('States: ', states.shape)\n",
    "print('Actions: ', actions.shape)"
   ]
  },
  {
   "cell_type": "markdown",
   "metadata": {
    "application/vnd.databricks.v1+cell": {
     "inputWidgets": {},
     "nuid": "2033ebd9-09cd-4bee-bea0-4c9627a698e5",
     "showTitle": false,
     "title": ""
    }
   },
   "source": [
    "### Simulator"
   ]
  },
  {
   "cell_type": "code",
   "execution_count": null,
   "metadata": {
    "application/vnd.databricks.v1+cell": {
     "inputWidgets": {},
     "nuid": "a5ad33d2-f0dd-46c4-b238-a300b9c73e49",
     "showTitle": false,
     "title": ""
    }
   },
   "outputs": [
    {
     "data": {
      "text/html": [
       "<style scoped>\n",
       "  .ansiout {\n",
       "    display: block;\n",
       "    unicode-bidi: embed;\n",
       "    white-space: pre-wrap;\n",
       "    word-wrap: break-word;\n",
       "    word-break: break-all;\n",
       "    font-family: \"Source Code Pro\", \"Menlo\", monospace;;\n",
       "    font-size: 13px;\n",
       "    color: #555;\n",
       "    margin-left: 4px;\n",
       "    line-height: 19px;\n",
       "  }\n",
       "</style>\n",
       "<div class=\"ansiout\">layers:  [100, 50]\n",
       "RecModel(\n",
       "  (total_mc): Sequential(\n",
       "    (0): Sequential(\n",
       "      (0): Linear(in_features=100, out_features=50, bias=True)\n",
       "      (1): ReLU()\n",
       "    )\n",
       "  )\n",
       "  (linear): Linear(in_features=50, out_features=1, bias=True)\n",
       ")\n",
       "</div>"
      ]
     },
     "metadata": {
      "application/vnd.databricks.v1+output": {
       "addedWidgets": {},
       "arguments": {},
       "data": "<div class=\"ansiout\">layers:  [100, 50]\nRecModel(\n  (total_mc): Sequential(\n    (0): Sequential(\n      (0): Linear(in_features=100, out_features=50, bias=True)\n      (1): ReLU()\n    )\n  )\n  (linear): Linear(in_features=50, out_features=1, bias=True)\n)\n</div>",
       "datasetInfos": [],
       "metadata": {},
       "removedWidgets": [],
       "type": "html"
      }
     },
     "output_type": "display_data"
    },
    {
     "data": {
      "text/html": [
       "<style scoped>\n",
       "  .ansiout {\n",
       "    display: block;\n",
       "    unicode-bidi: embed;\n",
       "    white-space: pre-wrap;\n",
       "    word-wrap: break-word;\n",
       "    word-break: break-all;\n",
       "    font-family: \"Source Code Pro\", \"Menlo\", monospace;;\n",
       "    font-size: 13px;\n",
       "    color: #555;\n",
       "    margin-left: 4px;\n",
       "    line-height: 19px;\n",
       "  }\n",
       "</style>\n",
       "<div class=\"ansiout\"></div>"
      ]
     },
     "metadata": {
      "application/vnd.databricks.v1+output": {
       "addedWidgets": {},
       "arguments": {},
       "data": "<div class=\"ansiout\"></div>",
       "datasetInfos": [],
       "metadata": {},
       "removedWidgets": [],
       "type": "html"
      }
     },
     "output_type": "display_data"
    },
    {
     "data": {
      "text/html": [
       "<style scoped>\n",
       "  .ansiout {\n",
       "    display: block;\n",
       "    unicode-bidi: embed;\n",
       "    white-space: pre-wrap;\n",
       "    word-wrap: break-word;\n",
       "    word-break: break-all;\n",
       "    font-family: \"Source Code Pro\", \"Menlo\", monospace;;\n",
       "    font-size: 13px;\n",
       "    color: #555;\n",
       "    margin-left: 4px;\n",
       "    line-height: 19px;\n",
       "  }\n",
       "</style>\n",
       "<div class=\"ansiout\"></div>"
      ]
     },
     "metadata": {
      "application/vnd.databricks.v1+output": {
       "addedWidgets": {},
       "arguments": {},
       "data": "<div class=\"ansiout\"></div>",
       "datasetInfos": [],
       "metadata": {},
       "removedWidgets": [],
       "type": "html"
      }
     },
     "output_type": "display_data"
    }
   ],
   "source": [
    "simulator = RecModel(len(state_cols)+len(action_cols), 2)\n",
    "checkpoint = t.load('checkpoint.pt')\n",
    "#print(checkpoint['model_dict'])\n",
    "\n",
    "simulator.load_state_dict(checkpoint['model_dict'])\n",
    "simulator.eval()\n",
    "print(simulator)"
   ]
  },
  {
   "cell_type": "markdown",
   "metadata": {
    "application/vnd.databricks.v1+cell": {
     "inputWidgets": {},
     "nuid": "8cf8b283-4ec8-4146-bcff-a1bed77d57eb",
     "showTitle": false,
     "title": ""
    }
   },
   "source": [
    "### Deep Agent"
   ]
  },
  {
   "cell_type": "code",
   "execution_count": null,
   "metadata": {
    "application/vnd.databricks.v1+cell": {
     "inputWidgets": {},
     "nuid": "6c548a06-4233-4841-ae71-dcf600b7ecd5",
     "showTitle": false,
     "title": ""
    }
   },
   "outputs": [
    {
     "data": {
      "text/html": [
       "<style scoped>\n",
       "  .ansiout {\n",
       "    display: block;\n",
       "    unicode-bidi: embed;\n",
       "    white-space: pre-wrap;\n",
       "    word-wrap: break-word;\n",
       "    word-break: break-all;\n",
       "    font-family: \"Source Code Pro\", \"Menlo\", monospace;;\n",
       "    font-size: 13px;\n",
       "    color: #555;\n",
       "    margin-left: 4px;\n",
       "    line-height: 19px;\n",
       "  }\n",
       "</style>\n",
       "<div class=\"ansiout\">[Sequential(\n",
       "  (0): Linear(in_features=100, out_features=50, bias=True)\n",
       "  (1): ReLU()\n",
       ")]\n",
       "save model...\n",
       "[19266.435546875, 6533.70947265625, 11816.5615234375, 6509.787109375, 2007.5791015625, 2330.45849609375, 2857.69775390625, 1042.944091796875, 4242.3935546875, 1625.214111328125, 687.34033203125, 604.2550048828125, 905.2376708984375, 1127.15576171875, 5978.18212890625, 771.7037963867188, 167.50901794433594, 199.46926879882812, 488.8578186035156, 106.84537506103516, 25.449462890625, 91.13189697265625, 185.1339874267578, 419.1665344238281, 115.24031066894531, 236.3980712890625, 47.560176849365234, 216.23709106445312, 13.107702255249023, 193.8047332763672, 148.92645263671875, 3120.25341796875, 283.40093994140625, 23.577354431152344, 269.03997802734375, 112.74654388427734, 2247.4482421875, 49.71810531616211, 139.03555297851562, 44.16453552246094, 159.3360595703125, 172.8500518798828, 13.586564064025879, 46.03532028198242, 90.65263366699219, 50.264076232910156, 16.079509735107422, 190.08680725097656, 85.96207427978516, 35.117862701416016, 43.6240119934082, 1275.833740234375, 84.70246887207031, 51.928741455078125, 12.624723434448242, 12.031959533691406, 18.616182327270508, 23.538158416748047, 255.76416015625, 13.394466400146484, 39.065887451171875, 7.154463291168213, 27.473682403564453, 12.73934555053711, 14.07486343383789, 48.17815399169922, 11.67497444152832, 34.537109375, 66.11161804199219, 22.504066467285156, 7.531518936157227, 383.7915344238281, 48.32105255126953, 32.819557189941406, 345.3330993652344, 4.059446334838867, 4.0871381759643555, 9.092443466186523, 14.337202072143555, 28.125913619995117, 5.4375386238098145, 30.869327545166016, 7.031826972961426, 29.46219253540039, 7.326047897338867, 21.71613883972168, 18.583145141601562, 58.178836822509766, 5.198188781738281, 24.69742774963379, 4.804682731628418, 10.479471206665039, 3.3407044410705566, 13.283834457397461, 24.838226318359375, 8.861600875854492, 18.84234046936035, 8.087607383728027, 8.739274024963379, 24.17202377319336]\n",
       "</div>"
      ]
     },
     "metadata": {
      "application/vnd.databricks.v1+output": {
       "addedWidgets": {},
       "arguments": {},
       "data": "<div class=\"ansiout\">[Sequential(\n  (0): Linear(in_features=100, out_features=50, bias=True)\n  (1): ReLU()\n)]\nsave model...\n[19266.435546875, 6533.70947265625, 11816.5615234375, 6509.787109375, 2007.5791015625, 2330.45849609375, 2857.69775390625, 1042.944091796875, 4242.3935546875, 1625.214111328125, 687.34033203125, 604.2550048828125, 905.2376708984375, 1127.15576171875, 5978.18212890625, 771.7037963867188, 167.50901794433594, 199.46926879882812, 488.8578186035156, 106.84537506103516, 25.449462890625, 91.13189697265625, 185.1339874267578, 419.1665344238281, 115.24031066894531, 236.3980712890625, 47.560176849365234, 216.23709106445312, 13.107702255249023, 193.8047332763672, 148.92645263671875, 3120.25341796875, 283.40093994140625, 23.577354431152344, 269.03997802734375, 112.74654388427734, 2247.4482421875, 49.71810531616211, 139.03555297851562, 44.16453552246094, 159.3360595703125, 172.8500518798828, 13.586564064025879, 46.03532028198242, 90.65263366699219, 50.264076232910156, 16.079509735107422, 190.08680725097656, 85.96207427978516, 35.117862701416016, 43.6240119934082, 1275.833740234375, 84.70246887207031, 51.928741455078125, 12.624723434448242, 12.031959533691406, 18.616182327270508, 23.538158416748047, 255.76416015625, 13.394466400146484, 39.065887451171875, 7.154463291168213, 27.473682403564453, 12.73934555053711, 14.07486343383789, 48.17815399169922, 11.67497444152832, 34.537109375, 66.11161804199219, 22.504066467285156, 7.531518936157227, 383.7915344238281, 48.32105255126953, 32.819557189941406, 345.3330993652344, 4.059446334838867, 4.0871381759643555, 9.092443466186523, 14.337202072143555, 28.125913619995117, 5.4375386238098145, 30.869327545166016, 7.031826972961426, 29.46219253540039, 7.326047897338867, 21.71613883972168, 18.583145141601562, 58.178836822509766, 5.198188781738281, 24.69742774963379, 4.804682731628418, 10.479471206665039, 3.3407044410705566, 13.283834457397461, 24.838226318359375, 8.861600875854492, 18.84234046936035, 8.087607383728027, 8.739274024963379, 24.17202377319336]\n</div>",
       "datasetInfos": [],
       "metadata": {},
       "removedWidgets": [],
       "type": "html"
      }
     },
     "output_type": "display_data"
    },
    {
     "data": {
      "image/png": "[encoded data removed]"
     },
     "metadata": {
      "application/vnd.databricks.v1+output": {
       "addedWidgets": {},
       "arguments": {},
       "data": "/plots/4f168493-d5af-400e-9d3d-fe6de9f77a72.png",
       "datasetInfos": [],
       "metadata": {},
       "removedWidgets": [],
       "type": "image"
      }
     },
     "output_type": "display_data"
    }
   ],
   "source": [
    "import copy\n",
    "import matplotlib.pyplot as plt\n",
    "\n",
    "class DDPGAgent():\n",
    "  def __init__(self, simulator, actor, critic, dim_state, dim_action, alpha, num_layers=2, states=None, actions=None,buffer=None,iters=10,batch_size=16, gamma=0.99, steps=100, Q=False):\n",
    "    \n",
    "    self.critic = critic\n",
    "    self.critic_target = copy.deepcopy(critic)\n",
    "    self.actor = actor\n",
    "    \n",
    "    self.buffer = buffer\n",
    "    self.dim_state = dim_state\n",
    "    self.dim_action = dim_action\n",
    "    self.alpha = alpha\n",
    "    self.num_layers = num_layers\n",
    "    self.states = states.float()\n",
    "    self.actions = actions.float()\n",
    "    \n",
    "    self.loss_fn = nn.MSELoss()\n",
    "    #self.optim = opitm.Adams()\n",
    "    self.iters = iters\n",
    "    self.batch_size = batch_size\n",
    "    self.gamma = gamma\n",
    "    self.steps = steps\n",
    "    self.simulator = simulator\n",
    "    self.Q = Q\n",
    "  \n",
    "  def select_action(self,action_vec, actions):\n",
    "    num_actions = actions.shape[0]\n",
    "    broadcast = (action_vec * actions.to(device)).sum(dim=1)\n",
    "    best = t.argmax(broadcast).item()\n",
    "    \n",
    "    if np.random.rand()<0.95:\n",
    "      return best\n",
    "    else:\n",
    "      return np.random.choice(num_actions, 1)[0]\n",
    "  \n",
    "  def train(self):\n",
    "    self.critic.train()\n",
    "    losses=[]\n",
    "    step = 0\n",
    "\n",
    "    for state in self.states[0:100]: ## Each user as the start of an episode\n",
    "      actions = self.actions\n",
    "      for i in range(self.iters): ##length for each episode(session)\n",
    "        self.critic.optimizer.zero_grad()\n",
    "        self.actor.optimizer.zero_grad()\n",
    "        total_Loss=0\n",
    "        \n",
    "        ##To select action\n",
    "        # 1: actor needs to generate the action vector(deterministicly)\n",
    "        # 2: use the output(vector) take the largest dot product with E greedy with all the action vectors\n",
    "        action_vec = self.actor(state)\n",
    "        action = self.select_action(action_vec.view(1,-1), actions) ##need to redefine\n",
    "        input_simulator = t.cat((state.view(1,-1),actions[action].view(1,-1)), 1)\n",
    "        \n",
    "        with t.no_grad():\n",
    "          reward = self.simulator(input_simulator).item()\n",
    "        \n",
    "        #if return positive, then update the state\n",
    "        if reward >=0.5:\n",
    "          state_new = state + action\n",
    "        else:\n",
    "          state_new = state\n",
    "        done = (i==self.iters-1)\n",
    "        \n",
    "        self.buffer.store_transaction(state.numpy(),actions[action].numpy(),reward,state_new.numpy(), done) #need to convert to .numpy()?     \n",
    "        state_batch, action_batch, reward_batch, state_next_batch, done_batch = self.buffer.sample_batch(self.batch_size)\n",
    "        \n",
    "        ##loss for Q values from the model\n",
    "        Qs = self.critic(t.tensor(state_batch).float().to(device), t.tensor(action_batch).float().to(device))           \n",
    "        ##Obtain Target Q values\n",
    "        if self.Q: #Use the max value rather than new\n",
    "          temp_holder = t.zeros(actions.shape[0])\n",
    "          state_holder=t.zeros(state_next_batch.shape[0])\n",
    "\n",
    "          #pick up the max q value with the next_state\n",
    "          for j in range(state_next_batch.shape[0]):\n",
    "            for i in range(actions.shape[0]):\n",
    "              with t.no_grad():\n",
    "                temp_holder[i] = self.critic_target(t.tensor(state_next_batch[j]).view(1,-1).float().to(device), actions[i].view(1,-1).float().to(device))\n",
    "            state_holder[j] = t.max(temp_holder)\n",
    "\n",
    "          targets = t.tensor(reward_batch) + self.gamma*state_holder\n",
    "        else:\n",
    "          action_next_vec = self.actor(t.tensor(state_next_batch).float())\n",
    "\n",
    "          action_next = t.zeros((action_next_vec.shape[0],action_next_vec.shape[1]))\n",
    "          for m,n in enumerate(action_next_vec):\n",
    "            action_next[m] = self.select_action(n, actions)\n",
    "\n",
    "          targets = t.tensor(reward_batch).view(-1,1).to(device) + self.gamma*self.critic_target(t.tensor(state_next_batch).float().to(device),action_next.to(device))\n",
    "\n",
    "        loss_critic = self.loss_fn(Qs.view(-1,1), targets.view(-1,1).float().to(device))\n",
    "        total_Loss+=loss_critic.item()     \n",
    "        loss_critic.float().backward()\n",
    "        ##gradient update\n",
    "        self.critic.optimizer.step()\n",
    "        \n",
    "        \n",
    "        ##Loss for the actor\n",
    "        #loss_actor = -self.critic(t.tensor(state_batch).float(), self.actor(t.tensor(state_batch).float()))\n",
    "        actions_next_vec = self.actor(t.tensor(state_batch).float())\n",
    "        \n",
    "        action_next = t.zeros((actions_next_vec.shape[0],actions_next_vec.shape[1]))\n",
    "        for y,z in enumerate(actions_next_vec):\n",
    "          action_next[y] = self.select_action(z, actions)\n",
    "\n",
    "        loss_actor = -self.critic(t.tensor(state_batch).float(),action_next)\n",
    "        loss_actor.mean().backward()\n",
    "        self.actor.optimizer.step()\n",
    "        \n",
    "        ##update the target network\n",
    "        step+=1\n",
    "        if step % self.steps == 0:\n",
    "          self.critic_target = copy.deepcopy(self.critic)       \n",
    "\n",
    "        ##Update actions available by removing the action recommended\n",
    "        actions = t.cat((actions[0:action], actions[action+1:]),0)\n",
    "        state = state_new #update the state\n",
    "\n",
    "      losses.append(total_Loss)\n",
    "    self.critic.saveChk()\n",
    "    self.actor.saveChk()\n",
    "    print(losses)\n",
    "    plt.xlabel('iters')\n",
    "    plt.ylabel('loss')\n",
    "    plt.plot(losses)\n",
    "    \n",
    "dim_state =len(state_cols)\n",
    "dim_action = len(action_cols)\n",
    "\n",
    "actor = Actor(dim_state, dim_action, 1e-4, checkpoint='actor.pt', num_layers=2)\n",
    "critic = Critic(dim_state, dim_action, 1e-4, checkpoint='DDPG.pt',num_layers=2)\n",
    "maxm_size = 1000 #buffer size\n",
    "buffer =  replayBuffer(maxm_size,dim_state, dim_action)\n",
    "agent =DDPGAgent(simulator, actor, critic, dim_state, dim_action, 1e-4, num_layers=2, states=states, actions=actions,buffer=buffer,iters=10,batch_size=16, gamma=0.99, steps=100)\n",
    "agent.train()"
   ]
  },
  {
   "cell_type": "code",
   "execution_count": null,
   "metadata": {
    "application/vnd.databricks.v1+cell": {
     "inputWidgets": {},
     "nuid": "27a9a5e8-8342-4745-bd66-6c1d5b56fda8",
     "showTitle": false,
     "title": ""
    }
   },
   "outputs": [
    {
     "data": {
      "text/html": [
       "<style scoped>\n",
       "  .ansiout {\n",
       "    display: block;\n",
       "    unicode-bidi: embed;\n",
       "    white-space: pre-wrap;\n",
       "    word-wrap: break-word;\n",
       "    word-break: break-all;\n",
       "    font-family: \"Source Code Pro\", \"Menlo\", monospace;;\n",
       "    font-size: 13px;\n",
       "    color: #555;\n",
       "    margin-left: 4px;\n",
       "    line-height: 19px;\n",
       "  }\n",
       "</style>"
      ]
     },
     "metadata": {
      "application/vnd.databricks.v1+output": {
       "arguments": {},
       "data": "",
       "errorSummary": "Command skipped",
       "errorTraceType": "html",
       "metadata": {},
       "type": "ipynbError"
      }
     },
     "output_type": "display_data"
    }
   ],
   "source": []
  }
 ],
 "metadata": {
  "application/vnd.databricks.v1+notebook": {
   "dashboards": [],
   "language": "python",
   "notebookMetadata": {
    "pythonIndentUnit": 2
   },
   "notebookName": "DDPG",
   "notebookOrigID": 3781180436622144,
   "widgets": {}
  },
  "kernelspec": {
   "display_name": "Python 3",
   "language": "python",
   "name": "python3"
  },
  "language_info": {
   "codemirror_mode": {
    "name": "ipython",
    "version": 3
   },
   "file_extension": ".py",
   "mimetype": "text/x-python",
   "name": "python",
   "nbconvert_exporter": "python",
   "pygments_lexer": "ipython3",
   "version": "3.7.0"
  }
 },
 "nbformat": 4,
 "nbformat_minor": 4
}
