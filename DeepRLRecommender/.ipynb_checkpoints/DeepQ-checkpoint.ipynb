{
 "cells": [
  {
   "cell_type": "markdown",
   "metadata": {
    "application/vnd.databricks.v1+cell": {
     "inputWidgets": {},
     "nuid": "92730d5f-c94d-4c8e-b09b-1ae1342327f1",
     "showTitle": false,
     "title": ""
    }
   },
   "source": [
    "### Import Classes"
   ]
  },
  {
   "cell_type": "code",
   "execution_count": null,
   "metadata": {
    "application/vnd.databricks.v1+cell": {
     "inputWidgets": {},
     "nuid": "72c762ef-f5cf-4f43-b932-629493984780",
     "showTitle": false,
     "title": ""
    }
   },
   "outputs": [],
   "source": [
    "%run ./ActorCricitSimulator"
   ]
  },
  {
   "cell_type": "markdown",
   "metadata": {
    "application/vnd.databricks.v1+cell": {
     "inputWidgets": {},
     "nuid": "0e7ac666-dc13-408e-8d9b-08ced7f5003d",
     "showTitle": false,
     "title": ""
    }
   },
   "source": [
    "### Data"
   ]
  },
  {
   "cell_type": "code",
   "execution_count": null,
   "metadata": {
    "application/vnd.databricks.v1+cell": {
     "inputWidgets": {},
     "nuid": "802867ec-7ecf-42f9-8f91-0843c566cefd",
     "showTitle": false,
     "title": ""
    }
   },
   "outputs": [
    {
     "data": {
      "text/html": [
       "<style scoped>\n",
       "  .ansiout {\n",
       "    display: block;\n",
       "    unicode-bidi: embed;\n",
       "    white-space: pre-wrap;\n",
       "    word-wrap: break-word;\n",
       "    word-break: break-all;\n",
       "    font-family: \"Source Code Pro\", \"Menlo\", monospace;;\n",
       "    font-size: 13px;\n",
       "    color: #555;\n",
       "    margin-left: 4px;\n",
       "    line-height: 19px;\n",
       "  }\n",
       "</style>\n",
       "<div class=\"ansiout\">/databricks/spark/python/pyspark/sql/pandas/utils.py:79: UserWarning: The conversion of DecimalType columns is inefficient and may take a long time. Column names: [TARGET] If those columns are not necessary, you may consider dropping them or converting to primitive types before the conversion.\n",
       "  warnings.warn(\n",
       "States:  torch.Size([4575, 50])\n",
       "Actions:  torch.Size([227, 50])\n",
       "</div>"
      ]
     },
     "metadata": {
      "application/vnd.databricks.v1+output": {
       "addedWidgets": {},
       "arguments": {},
       "data": "<div class=\"ansiout\">/databricks/spark/python/pyspark/sql/pandas/utils.py:79: UserWarning: The conversion of DecimalType columns is inefficient and may take a long time. Column names: [TARGET] If those columns are not necessary, you may consider dropping them or converting to primitive types before the conversion.\n  warnings.warn(\nStates:  torch.Size([4575, 50])\nActions:  torch.Size([227, 50])\n</div>",
       "datasetInfos": [],
       "metadata": {},
       "removedWidgets": [],
       "type": "html"
      }
     },
     "output_type": "display_data"
    },
    {
     "data": {
      "text/html": [
       "<style scoped>\n",
       "  .ansiout {\n",
       "    display: block;\n",
       "    unicode-bidi: embed;\n",
       "    white-space: pre-wrap;\n",
       "    word-wrap: break-word;\n",
       "    word-break: break-all;\n",
       "    font-family: \"Source Code Pro\", \"Menlo\", monospace;;\n",
       "    font-size: 13px;\n",
       "    color: #555;\n",
       "    margin-left: 4px;\n",
       "    line-height: 19px;\n",
       "  }\n",
       "</style>\n",
       "<div class=\"ansiout\"></div>"
      ]
     },
     "metadata": {
      "application/vnd.databricks.v1+output": {
       "addedWidgets": {},
       "arguments": {},
       "data": "<div class=\"ansiout\"></div>",
       "datasetInfos": [],
       "metadata": {},
       "removedWidgets": [],
       "type": "html"
      }
     },
     "output_type": "display_data"
    }
   ],
   "source": [
    "from sklearn.model_selection import train_test_split\n",
    "import numpy as np\n",
    "\n",
    "data_origin = spark.read.load(home + 'data')\n",
    "splits = data_origin.randomSplit([0.8, 0.2], 100)\n",
    "\n",
    "data = splits[0].toPandas()\n",
    "data_test = splits[1]\n",
    "\n",
    "cats = spark.read.format('delta').load((home + 'cat_seg'))\n",
    "clusters = cats.select('cluster').distinct().count()\n",
    "\n",
    "state_cols = ['orders_{0}'.format(i) for i in range(clusters)]\n",
    "action_cols = ['rest_{0}'.format(j) for j in range(clusters)]\n",
    "\n",
    "states = data[state_cols].drop_duplicates()\n",
    "states['rand'] = np.random.rand(states.shape[0])\n",
    "#display(states.head())\n",
    "states = states.sort_values(by='rand').drop('rand',axis=1)\n",
    "states = t.tensor(states.values)\n",
    "\n",
    "actions = t.tensor(data[action_cols].drop_duplicates().values)\n",
    "\n",
    "#print(state_cols)\n",
    "print('States: ', states.shape)\n",
    "print('Actions: ', actions.shape)"
   ]
  },
  {
   "cell_type": "markdown",
   "metadata": {
    "application/vnd.databricks.v1+cell": {
     "inputWidgets": {},
     "nuid": "2033ebd9-09cd-4bee-bea0-4c9627a698e5",
     "showTitle": false,
     "title": ""
    }
   },
   "source": [
    "### Simulator"
   ]
  },
  {
   "cell_type": "code",
   "execution_count": null,
   "metadata": {
    "application/vnd.databricks.v1+cell": {
     "inputWidgets": {},
     "nuid": "a5ad33d2-f0dd-46c4-b238-a300b9c73e49",
     "showTitle": false,
     "title": ""
    }
   },
   "outputs": [
    {
     "data": {
      "text/html": [
       "<style scoped>\n",
       "  .ansiout {\n",
       "    display: block;\n",
       "    unicode-bidi: embed;\n",
       "    white-space: pre-wrap;\n",
       "    word-wrap: break-word;\n",
       "    word-break: break-all;\n",
       "    font-family: \"Source Code Pro\", \"Menlo\", monospace;;\n",
       "    font-size: 13px;\n",
       "    color: #555;\n",
       "    margin-left: 4px;\n",
       "    line-height: 19px;\n",
       "  }\n",
       "</style>\n",
       "<div class=\"ansiout\">layers:  [100, 50]\n",
       "RecModel(\n",
       "  (total_mc): Sequential(\n",
       "    (0): Sequential(\n",
       "      (0): Linear(in_features=100, out_features=50, bias=True)\n",
       "      (1): ReLU()\n",
       "    )\n",
       "  )\n",
       "  (linear): Linear(in_features=50, out_features=1, bias=True)\n",
       ")\n",
       "</div>"
      ]
     },
     "metadata": {
      "application/vnd.databricks.v1+output": {
       "addedWidgets": {},
       "arguments": {},
       "data": "<div class=\"ansiout\">layers:  [100, 50]\nRecModel(\n  (total_mc): Sequential(\n    (0): Sequential(\n      (0): Linear(in_features=100, out_features=50, bias=True)\n      (1): ReLU()\n    )\n  )\n  (linear): Linear(in_features=50, out_features=1, bias=True)\n)\n</div>",
       "datasetInfos": [],
       "metadata": {},
       "removedWidgets": [],
       "type": "html"
      }
     },
     "output_type": "display_data"
    },
    {
     "data": {
      "text/html": [
       "<style scoped>\n",
       "  .ansiout {\n",
       "    display: block;\n",
       "    unicode-bidi: embed;\n",
       "    white-space: pre-wrap;\n",
       "    word-wrap: break-word;\n",
       "    word-break: break-all;\n",
       "    font-family: \"Source Code Pro\", \"Menlo\", monospace;;\n",
       "    font-size: 13px;\n",
       "    color: #555;\n",
       "    margin-left: 4px;\n",
       "    line-height: 19px;\n",
       "  }\n",
       "</style>\n",
       "<div class=\"ansiout\"></div>"
      ]
     },
     "metadata": {
      "application/vnd.databricks.v1+output": {
       "addedWidgets": {},
       "arguments": {},
       "data": "<div class=\"ansiout\"></div>",
       "datasetInfos": [],
       "metadata": {},
       "removedWidgets": [],
       "type": "html"
      }
     },
     "output_type": "display_data"
    },
    {
     "data": {
      "text/html": [
       "<style scoped>\n",
       "  .ansiout {\n",
       "    display: block;\n",
       "    unicode-bidi: embed;\n",
       "    white-space: pre-wrap;\n",
       "    word-wrap: break-word;\n",
       "    word-break: break-all;\n",
       "    font-family: \"Source Code Pro\", \"Menlo\", monospace;;\n",
       "    font-size: 13px;\n",
       "    color: #555;\n",
       "    margin-left: 4px;\n",
       "    line-height: 19px;\n",
       "  }\n",
       "</style>\n",
       "<div class=\"ansiout\"></div>"
      ]
     },
     "metadata": {
      "application/vnd.databricks.v1+output": {
       "addedWidgets": {},
       "arguments": {},
       "data": "<div class=\"ansiout\"></div>",
       "datasetInfos": [],
       "metadata": {},
       "removedWidgets": [],
       "type": "html"
      }
     },
     "output_type": "display_data"
    }
   ],
   "source": [
    "simulator = RecModel(len(state_cols)+len(action_cols), 2)\n",
    "checkpoint = t.load'checkpoint.pt')\n",
    "\n",
    "simulator.load_state_dict(checkpoint['model_dict'])\n",
    "simulator.eval()\n",
    "print(simulator)"
   ]
  },
  {
   "cell_type": "markdown",
   "metadata": {
    "application/vnd.databricks.v1+cell": {
     "inputWidgets": {},
     "nuid": "8cf8b283-4ec8-4146-bcff-a1bed77d57eb",
     "showTitle": false,
     "title": ""
    }
   },
   "source": [
    "### Deep Agent"
   ]
  },
  {
   "cell_type": "code",
   "execution_count": null,
   "metadata": {
    "application/vnd.databricks.v1+cell": {
     "inputWidgets": {},
     "nuid": "6c548a06-4233-4841-ae71-dcf600b7ecd5",
     "showTitle": false,
     "title": ""
    }
   },
   "outputs": [
    {
     "data": {
      "text/html": [
       "<style scoped>\n",
       "  .ansiout {\n",
       "    display: block;\n",
       "    unicode-bidi: embed;\n",
       "    white-space: pre-wrap;\n",
       "    word-wrap: break-word;\n",
       "    word-break: break-all;\n",
       "    font-family: \"Source Code Pro\", \"Menlo\", monospace;;\n",
       "    font-size: 13px;\n",
       "    color: #555;\n",
       "    margin-left: 4px;\n",
       "    line-height: 19px;\n",
       "  }\n",
       "</style>\n",
       "<div class=\"ansiout\">[Sequential(\n",
       "  (0): Linear(in_features=100, out_features=50, bias=True)\n",
       "  (1): ReLU()\n",
       ")]\n",
       "save model...\n",
       "[5710.38330078125, 107947.453125, 92800.671875, 156145.484375, 14758.30859375, 90890.7421875, 37583.515625, 21581.384765625, 48593.140625, 52316.13671875, 4529.28857421875, 10899.9375, 20934.62890625, 29987.515625, 7314.49755859375, 32977.26953125, 22596.00390625, 14173.76953125, 9990.322265625, 10105.291015625, 5572.8203125, 9394.439453125, 8750.6826171875, 8793.9765625, 10790.2421875, 10187.7099609375, 7198.93115234375, 10011.326171875, 8132.7548828125, 9883.6865234375, 3225.197265625, 3338.17333984375, 10600.3896484375, 13967.380859375, 10822.3623046875, 8306.4150390625, 5565.6875, 4628.81884765625, 10138.09765625, 9883.7041015625, 1832.8253173828125, 4134.87744140625, 8331.34375, 7445.87548828125, 8741.916015625, 7378.1865234375, 4833.9033203125, 4893.62890625, 8167.4228515625, 5518.8955078125, 1927.9964599609375, 6710.630859375, 7472.45947265625, 13633.4921875, 12695.873046875, 9001.478515625, 11558.685546875, 12991.1103515625, 15368.294921875, 4883.0234375, 3571.94775390625, 9084.759765625, 27316.9921875, 23595.0546875, 12833.2666015625, 11683.77734375, 8897.9990234375, 24216.0078125, 25341.62890625, 17556.76953125, 2627.938232421875, 5379.59375, 15282.0, 22704.208984375, 12704.765625, 22696.17578125, 14361.4365234375, 13865.427734375, 17442.560546875, 8164.6240234375, 8824.39453125, 4708.82568359375, 21361.142578125, 23375.3125, 22163.07421875, 21544.001953125, 21638.1875, 20343.11328125, 17900.3984375, 19390.02734375, 3800.05322265625, 21155.912109375, 25396.80859375, 25388.67578125, 11509.068359375, 13275.4130859375, 26521.97265625, 16153.3037109375, 16878.26953125, 12528.076171875]\n",
       "</div>"
      ]
     },
     "metadata": {
      "application/vnd.databricks.v1+output": {
       "addedWidgets": {},
       "arguments": {},
       "data": "<div class=\"ansiout\">[Sequential(\n  (0): Linear(in_features=100, out_features=50, bias=True)\n  (1): ReLU()\n)]\nsave model...\n[5710.38330078125, 107947.453125, 92800.671875, 156145.484375, 14758.30859375, 90890.7421875, 37583.515625, 21581.384765625, 48593.140625, 52316.13671875, 4529.28857421875, 10899.9375, 20934.62890625, 29987.515625, 7314.49755859375, 32977.26953125, 22596.00390625, 14173.76953125, 9990.322265625, 10105.291015625, 5572.8203125, 9394.439453125, 8750.6826171875, 8793.9765625, 10790.2421875, 10187.7099609375, 7198.93115234375, 10011.326171875, 8132.7548828125, 9883.6865234375, 3225.197265625, 3338.17333984375, 10600.3896484375, 13967.380859375, 10822.3623046875, 8306.4150390625, 5565.6875, 4628.81884765625, 10138.09765625, 9883.7041015625, 1832.8253173828125, 4134.87744140625, 8331.34375, 7445.87548828125, 8741.916015625, 7378.1865234375, 4833.9033203125, 4893.62890625, 8167.4228515625, 5518.8955078125, 1927.9964599609375, 6710.630859375, 7472.45947265625, 13633.4921875, 12695.873046875, 9001.478515625, 11558.685546875, 12991.1103515625, 15368.294921875, 4883.0234375, 3571.94775390625, 9084.759765625, 27316.9921875, 23595.0546875, 12833.2666015625, 11683.77734375, 8897.9990234375, 24216.0078125, 25341.62890625, 17556.76953125, 2627.938232421875, 5379.59375, 15282.0, 22704.208984375, 12704.765625, 22696.17578125, 14361.4365234375, 13865.427734375, 17442.560546875, 8164.6240234375, 8824.39453125, 4708.82568359375, 21361.142578125, 23375.3125, 22163.07421875, 21544.001953125, 21638.1875, 20343.11328125, 17900.3984375, 19390.02734375, 3800.05322265625, 21155.912109375, 25396.80859375, 25388.67578125, 11509.068359375, 13275.4130859375, 26521.97265625, 16153.3037109375, 16878.26953125, 12528.076171875]\n</div>",
       "datasetInfos": [],
       "metadata": {},
       "removedWidgets": [],
       "type": "html"
      }
     },
     "output_type": "display_data"
    },
    {
     "data": {
      "image/png": "[encoded data removed]"
     },
     "metadata": {
      "application/vnd.databricks.v1+output": {
       "addedWidgets": {},
       "arguments": {},
       "data": "/plots/ecc89bd0-0109-414b-8c1a-fb2ab6f130b1.png",
       "datasetInfos": [],
       "metadata": {},
       "removedWidgets": [],
       "type": "image"
      }
     },
     "output_type": "display_data"
    }
   ],
   "source": [
    "import copy\n",
    "import matplotlib.pyplot as plt\n",
    "\n",
    "class DeepQAgent():\n",
    "  def __init__(self, simulator, critic, dim_state, dim_action, alpha, num_layers=2, states=None, actions=None,buffer=None,iters=10,batch_size=16, gamma=0.99, steps=100):\n",
    "    self.critic = critic\n",
    "    self.critic_target = copy.deepcopy(critic)\n",
    "    \n",
    "    self.buffer = buffer\n",
    "    self.dim_state = dim_state\n",
    "    self.dim_action = dim_action\n",
    "    self.alpha = alpha\n",
    "    self.num_layers = num_layers\n",
    "    self.states = states.float()\n",
    "    self.actions = actions.float()\n",
    "    \n",
    "    self.loss_fn = nn.MSELoss()\n",
    "    #self.optim = opitm.Adams()\n",
    "    self.iters = iters\n",
    "    self.batch_size = batch_size\n",
    "    self.gamma = gamma\n",
    "    self.steps = steps\n",
    "    self.simulator = simulator\n",
    "  \n",
    "  def select_action(self,state, actions):\n",
    "    num_actions = actions.shape[0]\n",
    "    holder = t.zeros(num_actions)\n",
    "    for i, action in enumerate(actions):\n",
    "      holder[i] = self.critic(state, action.view(1,-1))\n",
    "    best = t.argmax(holder).item()\n",
    "    \n",
    "    if np.random.rand()<0.95:\n",
    "      return best\n",
    "    else:\n",
    "      return np.random.choice(num_actions, 1)[0]\n",
    "  \n",
    "  def train(self):\n",
    "    self.critic.train()\n",
    "    losses=[]\n",
    "    step = 0\n",
    "\n",
    "    for state in self.states[0:100]: ## Each user as the start of an episode\n",
    "      actions = self.actions\n",
    "      for i in range(self.iters): ##length for each episode\n",
    "        self.critic.optimizer.zero_grad()\n",
    "        total_Loss=0\n",
    "        \n",
    "        action = self.select_action(state.view(1,-1), actions)\n",
    "        input_simulator = t.cat((state.view(1,-1),actions[action].view(1,-1)), 1)\n",
    "        \n",
    "        with t.no_grad():\n",
    "          reward = self.simulator(input_simulator).item()\n",
    "\n",
    "        #if return positive, then update the state\n",
    "        if reward >=0.5:\n",
    "          state_new = state + action\n",
    "        else:\n",
    "          state_new = state\n",
    "        done = (i==self.iters-1)\n",
    "        \n",
    "        self.buffer.store_transaction(state.numpy(),actions[action].numpy(),reward,state_new.numpy(), done) #need to convert to .numpy()?     \n",
    "        state_batch, action_batch, reward_batch, state_next_batch, done_batch = self.buffer.sample_batch(self.batch_size)\n",
    "        \n",
    "        ##Q values from the model\n",
    "        Qs = self.critic(t.tensor(state_batch).float().to(device), t.tensor(action_batch).float().to(device))    \n",
    "        \n",
    "        ##Obtain Target Q values\n",
    "        temp_holder = t.zeros(actions.shape[0])\n",
    "        state_holder=t.zeros(state_next_batch.shape[0])\n",
    "        \n",
    "        #pick up the max q value with the next_state\n",
    "        for j in range(state_next_batch.shape[0]):\n",
    "          for i in range(actions.shape[0]):\n",
    "            with t.no_grad():\n",
    "              temp_holder[i] = self.critic_target(t.tensor(state_next_batch[j]).view(1,-1).float().to(device), actions[i].view(1,-1).float().to(device))\n",
    "          state_holder[j] = t.max(temp_holder)\n",
    "        \n",
    "        targets = t.tensor(reward_batch) + self.gamma*state_holder\n",
    "        \n",
    "        ##loss\n",
    "        loss = self.loss_fn(Qs.view(-1,1), targets.view(-1,1).float().to(device))\n",
    "        total_Loss+=loss.item()        \n",
    "        loss.float().backward()\n",
    "        ##gradient update\n",
    "        self.critic.optimizer.step()\n",
    "        \n",
    "        ##update the target network\n",
    "        step+=1\n",
    "        if step % self.steps == 0:\n",
    "          self.critic_target = copy.deepcopy(self.critic)       \n",
    "\n",
    "        ##Update actions available by removing the action recommended\n",
    "        actions = t.cat((actions[0:action], actions[action+1:]),0)\n",
    "        state = state_new #update the state\n",
    "\n",
    "      losses.append(total_Loss)\n",
    "    self.critic.saveChk()\n",
    "    print(losses)\n",
    "    plt.xlabel('iters')\n",
    "    plt.ylabel('loss')\n",
    "    plt.plot(losses)\n",
    "    \n",
    "dim_state =len(state_cols)\n",
    "dim_action = len(action_cols)\n",
    "\n",
    "critic = Critic(dim_state, dim_action, 1e-4, checkpoint='deepQ.pt',num_layers=2)\n",
    "maxm_size = 1000 #buffer size\n",
    "buffer =  replayBuffer(maxm_size,dim_state, dim_action)\n",
    "agent =DeepQAgent(simulator, critic, dim_state, dim_action, 1e-4, num_layers=2, states=states, actions=actions,buffer=buffer,iters=10,batch_size=16, gamma=0.99, steps=100)\n",
    "agent.train()"
   ]
  },
  {
   "cell_type": "code",
   "execution_count": null,
   "metadata": {
    "application/vnd.databricks.v1+cell": {
     "inputWidgets": {},
     "nuid": "27a9a5e8-8342-4745-bd66-6c1d5b56fda8",
     "showTitle": false,
     "title": ""
    }
   },
   "outputs": [],
   "source": []
  }
 ],
 "metadata": {
  "application/vnd.databricks.v1+notebook": {
   "dashboards": [],
   "language": "python",
   "notebookMetadata": {
    "pythonIndentUnit": 2
   },
   "notebookName": "DeepQ",
   "notebookOrigID": 999234197077095,
   "widgets": {}
  },
  "kernelspec": {
   "display_name": "Python 3",
   "language": "python",
   "name": "python3"
  },
  "language_info": {
   "codemirror_mode": {
    "name": "ipython",
    "version": 3
   },
   "file_extension": ".py",
   "mimetype": "text/x-python",
   "name": "python",
   "nbconvert_exporter": "python",
   "pygments_lexer": "ipython3",
   "version": "3.7.0"
  }
 },
 "nbformat": 4,
 "nbformat_minor": 4
}
